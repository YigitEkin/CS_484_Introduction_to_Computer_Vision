{
 "cells": [
  {
   "attachments": {},
   "cell_type": "markdown",
   "metadata": {},
   "source": [
    "# Spatial Domain Filtering"
   ]
  },
  {
   "attachments": {},
   "cell_type": "markdown",
   "metadata": {},
   "source": [
    "mean gauss median conv\n",
    "roberts cross gradient\n",
    "sobel cross gradient\n",
    "sharpening filters\n",
    "resize\n",
    "\n",
    "\n"
   ]
  },
  {
   "cell_type": "code",
   "execution_count": 8,
   "metadata": {},
   "outputs": [],
   "source": [
    "import numpy as np\n",
    "import matplotlib.pyplot as plt\n",
    "import PIL.Image as Image"
   ]
  },
  {
   "cell_type": "code",
   "execution_count": 9,
   "metadata": {},
   "outputs": [
    {
     "ename": "ValueError",
     "evalue": "operands could not be broadcast together with shapes (3,2) (3,3) ",
     "output_type": "error",
     "traceback": [
      "\u001b[0;31m---------------------------------------------------------------------------\u001b[0m",
      "\u001b[0;31mValueError\u001b[0m                                Traceback (most recent call last)",
      "Cell \u001b[0;32mIn[9], line 9\u001b[0m\n\u001b[1;32m      5\u001b[0m             image[i, j] \u001b[39m=\u001b[39m np\u001b[39m.\u001b[39msum(image[i:i\u001b[39m+\u001b[39mkernel\u001b[39m.\u001b[39mshape[\u001b[39m0\u001b[39m], j:j\u001b[39m+\u001b[39mkernel\u001b[39m.\u001b[39mshape[\u001b[39m1\u001b[39m]] \u001b[39m*\u001b[39m kernel)\n\u001b[1;32m      6\u001b[0m     \u001b[39mreturn\u001b[39;00m image\n\u001b[0;32m----> 9\u001b[0m \u001b[39mprint\u001b[39m( convolution(np\u001b[39m.\u001b[39;49marray([[\u001b[39m1\u001b[39;49m, \u001b[39m2\u001b[39;49m, \u001b[39m3\u001b[39;49m], [\u001b[39m4\u001b[39;49m, \u001b[39m5\u001b[39;49m, \u001b[39m6\u001b[39;49m], [\u001b[39m7\u001b[39;49m, \u001b[39m8\u001b[39;49m, \u001b[39m9\u001b[39;49m]]), np\u001b[39m.\u001b[39;49marray([[\u001b[39m1\u001b[39;49m, \u001b[39m1\u001b[39;49m, \u001b[39m1\u001b[39;49m], [\u001b[39m1\u001b[39;49m, \u001b[39m1\u001b[39;49m, \u001b[39m1\u001b[39;49m], [\u001b[39m1\u001b[39;49m,\u001b[39m1\u001b[39;49m,\u001b[39m1\u001b[39;49m]])) )\n",
      "Cell \u001b[0;32mIn[9], line 5\u001b[0m, in \u001b[0;36mconvolution\u001b[0;34m(image, kernel)\u001b[0m\n\u001b[1;32m      3\u001b[0m \u001b[39mfor\u001b[39;00m i \u001b[39min\u001b[39;00m \u001b[39mrange\u001b[39m(image\u001b[39m.\u001b[39mshape[\u001b[39m0\u001b[39m]):\n\u001b[1;32m      4\u001b[0m     \u001b[39mfor\u001b[39;00m j \u001b[39min\u001b[39;00m \u001b[39mrange\u001b[39m(image\u001b[39m.\u001b[39mshape[\u001b[39m1\u001b[39m]):\n\u001b[0;32m----> 5\u001b[0m         image[i, j] \u001b[39m=\u001b[39m np\u001b[39m.\u001b[39msum(image[i:i\u001b[39m+\u001b[39;49mkernel\u001b[39m.\u001b[39;49mshape[\u001b[39m0\u001b[39;49m], j:j\u001b[39m+\u001b[39;49mkernel\u001b[39m.\u001b[39;49mshape[\u001b[39m1\u001b[39;49m]] \u001b[39m*\u001b[39;49m kernel)\n\u001b[1;32m      6\u001b[0m \u001b[39mreturn\u001b[39;00m image\n",
      "\u001b[0;31mValueError\u001b[0m: operands could not be broadcast together with shapes (3,2) (3,3) "
     ]
    }
   ],
   "source": [
    "def convolution(image, kernel):\n",
    "    \"\"\"Convolve an image with a kernel.\"\"\"\n",
    "    for i in range(image.shape[0]):\n",
    "        for j in range(image.shape[1]):\n",
    "            image[i, j] = np.sum(image[i:i+kernel.shape[0], j:j+kernel.shape[1]] * kernel)\n",
    "    return image\n",
    "\n",
    "\n",
    "print(convolution(np.array([[1, 2, 3], [4, 5, 6], [7, 8, 9]]), np.array([[1, 1], [1, 1]])))"
   ]
  },
  {
   "cell_type": "markdown",
   "metadata": {},
   "source": []
  }
 ],
 "metadata": {
  "kernelspec": {
   "display_name": "Python 3",
   "language": "python",
   "name": "python3"
  },
  "language_info": {
   "codemirror_mode": {
    "name": "ipython",
    "version": 3
   },
   "file_extension": ".py",
   "mimetype": "text/x-python",
   "name": "python",
   "nbconvert_exporter": "python",
   "pygments_lexer": "ipython3",
   "version": "3.10.8"
  },
  "orig_nbformat": 4
 },
 "nbformat": 4,
 "nbformat_minor": 2
}
