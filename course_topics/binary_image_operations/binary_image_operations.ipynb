{
 "cells": [
  {
   "cell_type": "code",
   "execution_count": null,
   "metadata": {},
   "outputs": [],
   "source": [
    "otsu thresholding\n",
    "dilation\n",
    "erosion\n",
    "opening\n",
    "closing\n",
    "\n",
    "\n",
    "boundary extraction (itself - erosion)\n",
    "region filling\n",
    "connected components"
   ]
  }
 ],
 "metadata": {
  "language_info": {
   "name": "python"
  },
  "orig_nbformat": 4
 },
 "nbformat": 4,
 "nbformat_minor": 2
}
